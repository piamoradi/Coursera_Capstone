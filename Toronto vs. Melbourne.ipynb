{
    "cells": [
        {
            "metadata": {
                "collapsed": true
            },
            "cell_type": "markdown",
            "source": "## Introduction"
        },
        {
            "metadata": {},
            "cell_type": "markdown",
            "source": "I'll be leveraging the Toronto postal code data that I used in the previous assignment, and scraping similar postal code data for Melbourne, Australia to find similarities and differences between clusters in the two cities."
        },
        {
            "metadata": {},
            "cell_type": "markdown",
            "source": "## Data"
        },
        {
            "metadata": {},
            "cell_type": "markdown",
            "source": "I'll be leveraging the Toronto postal code data from the previous assignment, as well as similar postal code data for Melbourne, Australia in conjunction with the corresponding Foursquare location data."
        },
        {
            "metadata": {},
            "cell_type": "markdown",
            "source": "[Toronto Postal Code Data](https://en.wikipedia.org/wiki/List_of_postal_codes_of_Canada:_M)"
        },
        {
            "metadata": {},
            "cell_type": "markdown",
            "source": "[Melbourne Postal Code Data](https://en.wikipedia.org/wiki/Postal_district_numbers_of_Melbourne)"
        },
        {
            "metadata": {},
            "cell_type": "code",
            "source": "",
            "execution_count": null,
            "outputs": []
        }
    ],
    "metadata": {
        "kernelspec": {
            "name": "python3",
            "display_name": "Python 3.7",
            "language": "python"
        },
        "language_info": {
            "name": "python",
            "version": "3.7.10",
            "mimetype": "text/x-python",
            "codemirror_mode": {
                "name": "ipython",
                "version": 3
            },
            "pygments_lexer": "ipython3",
            "nbconvert_exporter": "python",
            "file_extension": ".py"
        }
    },
    "nbformat": 4,
    "nbformat_minor": 1
}